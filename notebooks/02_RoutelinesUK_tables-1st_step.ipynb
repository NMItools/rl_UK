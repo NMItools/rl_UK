{
 "cells": [
  {
   "cell_type": "markdown",
   "metadata": {},
   "source": [
    "This is a python script which is a replicated MapBasic code from a file named **BusLines_Frequency_F6.MBX** \n",
    "\n",
    "\n",
    "_Important Note: Python v3.9.1 is needed since it comes compiled with SQLite version 3.33.0. This version of SQLite has introduced some new SQL JOIN statements which are used in the script._\n"
   ]
  },
  {
   "cell_type": "markdown",
   "metadata": {},
   "source": [
    "**Create folder structure:**\n",
    "\n",
    "```\n",
    "D:\\Routelines\n",
    "        \\data\n",
    "        \\db\n",
    "        \\rlc\n",
    "        \\shp\n",
    "\n",
    "\\data -> put here \"NOCTable.csv\" and CIF files in subfolders by region\n",
    "\\db   -> here will be created sqlite db file\n",
    "\\rlc  -> here will be the files related to \"Route Line Creator\" (input CSV and output result)\n",
    "\\shp  -> here will be created final shapefile\n",
    "```"
   ]
  },
  {
   "cell_type": "code",
   "execution_count": 1,
   "metadata": {
    "scrolled": true
   },
   "outputs": [
    {
     "name": "stdout",
     "output_type": "stream",
     "text": [
      "Python v3.9.2 (tags/v3.9.2:1a79785, Feb 19 2021, 13:44:55) [MSC v.1928 64 bit (AMD64)]\n",
      "------------------------------------------------------------------------------\n",
      "Pandas v1.2.4\n",
      "NumPy v1.19.4\n",
      "SQLite v3.34.1\n"
     ]
    }
   ],
   "source": [
    "import os\n",
    "import sys\n",
    "import csv\n",
    "import math\n",
    "import mmap\n",
    "import sqlite3\n",
    "\n",
    "import pandas as pd\n",
    "import numpy as np\n",
    "from tqdm.notebook import tqdm\n",
    "\n",
    "print('Python v' + sys.version)\n",
    "print('------------------------------------------------------------------------------')\n",
    "print('Pandas v' + pd.__version__)\n",
    "print('NumPy v' + np.__version__)\n",
    "print('SQLite v' + sqlite3.sqlite_version)"
   ]
  },
  {
   "cell_type": "markdown",
   "metadata": {},
   "source": [
    "#### 1.  CIF data extraction functions"
   ]
  },
  {
   "cell_type": "code",
   "execution_count": 2,
   "metadata": {},
   "outputs": [],
   "source": [
    "def mapcount(filename):\n",
    "    print(\"Counting number of lines...\")\n",
    "    f = open(filename, \"r+\")\n",
    "    buf = mmap.mmap(f.fileno(), 0)\n",
    "    lines = 0\n",
    "    readline = buf.readline\n",
    "    while readline():\n",
    "        lines += 1\n",
    "    print(f'{lines} lines in the file!')\n",
    "    return lines"
   ]
  },
  {
   "cell_type": "code",
   "execution_count": 3,
   "metadata": {},
   "outputs": [],
   "source": [
    "def chunker(seq, size):\n",
    "    return (seq[pos:pos + size] for pos in range(0, len(seq), size))"
   ]
  },
  {
   "cell_type": "code",
   "execution_count": 4,
   "metadata": {},
   "outputs": [],
   "source": [
    "def insert_with_progress(df, tablename):\n",
    "    chunksize = int(len(df) / 10) # 10%\n",
    "    with tqdm(total=len(df)) as pbar:\n",
    "        for i, cdf in enumerate(chunker(df, chunksize)):\n",
    "            cdf.to_sql(tablename, conn, schema='rl', if_exists='append', index=False)\n",
    "            pbar.update(chunksize)\n",
    "            pbar.set_description(f'Insert \"{region}\" region to SQLite')\n",
    "    rows_inserted = c.execute('''SELECT * FROM '''+ tablename + ''' PTStops;''')\n",
    "    print(tablename + \" rows number: \", len(c.fetchall()))"
   ]
  },
  {
   "cell_type": "code",
   "execution_count": 5,
   "metadata": {
    "scrolled": true
   },
   "outputs": [],
   "source": [
    "# Reading CIF file\n",
    "\n",
    "def read_cif(cif_file):\n",
    "    print(f'CIF file size is {round(os.stat(cif_file).st_size / (1024 * 1024), 2)} MB')   \n",
    "    count_lines = mapcount(cif_file)\n",
    "    chunk_size=1000000\n",
    "    chunks = []\n",
    "    loops = math.ceil(count_lines/chunk_size)\n",
    "    i=0\n",
    "    with tqdm(total = loops, file = sys.stdout) as pbar:\n",
    "        reader = pd.read_csv(cif_file, names=['CODE'], header=None, sep='!', iterator=True)\n",
    "        while i <= loops:\n",
    "            try:\n",
    "                i+=1\n",
    "                chunk = reader.get_chunk(chunk_size)\n",
    "                chunks.append(chunk)\n",
    "                pbar.set_description('Loading raw CIF data')\n",
    "                pbar.update(1)\n",
    "            except StopIteration:\n",
    "                loop = False\n",
    "                cif_data = pd.concat(chunks, ignore_index=True)\n",
    "                pbar.update(1)\n",
    "    pbar.set_description('Done!')\n",
    "    pbar.close()\n",
    "    return cif_data\n"
   ]
  },
  {
   "cell_type": "code",
   "execution_count": 6,
   "metadata": {},
   "outputs": [],
   "source": [
    "# PTStops table creation\n",
    "\n",
    "def GetPtStops(cif_data, region, tablename):\n",
    "    print(\"Extracting QB nodes in progress...\")\n",
    "    QB = cif_data['CODE'].str.extract('(^QB.*)').dropna()\n",
    "    QB.columns = ['CODE']\n",
    "    print(\"QB nodes extracted:\", len(QB))\n",
    "    COLUMN_NAMES = ['NaptanID','Xcoord','Ycoord']\n",
    "    PTStops = pd.DataFrame(columns=COLUMN_NAMES)\n",
    "    PTStops['NaptanID'] = QB['CODE'].str.slice(start=3, stop=15).str.rstrip()\n",
    "    PTStops['Xcoord'] = QB['CODE'].str.slice(start=15, stop=21)\n",
    "    PTStops['Ycoord'] = QB['CODE'].str.slice(start=23, stop=29)\n",
    "    insert_with_progress(PTStops, tablename)\n",
    "    return PTStops    "
   ]
  },
  {
   "cell_type": "code",
   "execution_count": 7,
   "metadata": {},
   "outputs": [],
   "source": [
    "# Routes exctraction\n",
    "\n",
    "def GetRouteDataToSQLite(cif_df):\n",
    "    \n",
    "    # temp list for RouteLines1 columns\n",
    "    l_BMRouteID_1 = []\n",
    "    l_BM_StartStopID_1 = []\n",
    "    l_AnodeStopID = []\n",
    "    l_BnodeStopID = []\n",
    "\n",
    "    # temp list for MainTable columns\n",
    "    l_OperatorCode = []\n",
    "    l_ServiceNum = []\n",
    "    l_BM_RouteID_2 = []\n",
    "    l_BM_StartStopID_2 = []\n",
    "    l_Direction = []\n",
    "    l_StopID = []\n",
    "    l_DeptTime = []\n",
    "    l_Seq = []\n",
    "    l_Mon = []\n",
    "    l_Tue = []\n",
    "    l_Wed = []\n",
    "    l_Thu = []\n",
    "    l_Fri = []\n",
    "    l_Sat = []\n",
    "    l_Sun = []\n",
    "\n",
    "    # RouteLines1 to sqlite3\n",
    "    c.execute('''DROP TABLE IF EXISTS RouteLines1;''')\n",
    "    conn.commit()  \n",
    "    c.execute('''CREATE TABLE RouteLines1(\n",
    "                                          Region TEXT,\n",
    "                                          BMRouteID TEXT,\n",
    "                                          BM_StartStopID TEXT,\n",
    "                                          AnodeStopID TEXT,\n",
    "                                          BnodeStopID TEXT,\n",
    "                                          AnodeXCoord INTEGER,\n",
    "                                          AnodeYCoord INTEGER,\n",
    "                                          BnodeXCoord INTEGER,\n",
    "                                          BnodeYCoord INTEGER,\n",
    "                                          id INTEGER PRIMARY KEY\n",
    "                                          )\n",
    "    ''')\n",
    "\n",
    "    # MainTable to sqlite3\n",
    "    c.execute('''DROP TABLE IF EXISTS MainTable;''')\n",
    "    conn.commit()      \n",
    "    c.execute('''CREATE TABLE MainTable(\n",
    "                                        OperatorCode TEXT,\n",
    "                                        ServiceNum TEXT,\n",
    "                                        BM_RouteID TEXT,\n",
    "                                        BM_StartStopID TEXT,\n",
    "                                        Direction TEXT,\n",
    "                                        StopID TEXT,\n",
    "                                        DeptTime INTEGER,\n",
    "                                        Seq INTEGER,\n",
    "                                        Mon Integer,\n",
    "                                        Tue Integer,\n",
    "                                        Wed Integer,\n",
    "                                        Thur Integer,\n",
    "                                        Fri Integer,\n",
    "                                        Sat Integer,\n",
    "                                        Sun Integer,\n",
    "                                        TotalWeekly Integer,\n",
    "                                        id INTEGER PRIMARY KEY\n",
    "                                        )\n",
    "                                        ''')\n",
    "    conn.commit()\n",
    "    \n",
    "#   -----------\n",
    "    print(\"Data extraction from CIF to lists...\")\n",
    "    \n",
    "    BankHolOnly = \"\" \n",
    "\n",
    "    for x in cif_df['CODE']:\n",
    "        if x[0:2]=='QS':\n",
    "    #         -----------------------\n",
    "    #         QS\n",
    "    #         -----------------------\n",
    "            SeqNo = 0\n",
    "            AnodeStr = \"XXXX\"\n",
    "            RouteIDFull = x[38:65]\n",
    "    #         print(\"1-\",RouteIDFull)\n",
    "            RouteIDV = RouteIDFull[:4].rstrip()\n",
    "    #         print(\"2-\",RouteIDV)\n",
    "            RouteIDFull = x[37:65]\n",
    "    #         print(\"3-\",RouteIDFull)        \n",
    "            BankHolOnly = RouteIDFull[0]\n",
    "    #         print(\"4-\",BankHolOnly)\n",
    "            if BankHolOnly != \"\":\n",
    "                pass\n",
    "            RouteIDFull =x[3:]\n",
    "    #         print(\"5-\"+RouteIDFull)                \n",
    "            RouteOpV = RouteIDFull[:4].rstrip()\n",
    "    #         print(\"6-\"+RouteOpV)\n",
    "            ServiceIDv = RouteIDV\n",
    "            RouteIDFull = x[64:]\n",
    "    #         print(\"7-\"+RouteIDFull)        \n",
    "            DirectionV = RouteIDFull[0]\n",
    "            RouteIDV = region + \"_\" + RouteOpV + \"_\" +  RouteIDV + \"_\" + DirectionV\n",
    "    #         print(\"8-\"+RouteIDV)\n",
    "    #         RouteIDFull = x[29:]\n",
    "            MonV = int(x[29:][0])\n",
    "    #         print(\"MonV =\", MonV)\n",
    "            TueV = int(x[30:][0])\n",
    "    #         print(\"TueV =\", TueV)\n",
    "            WedV = int(x[31:][0])\n",
    "    #         print(\"WedV =\", WedV)\n",
    "            ThuV = int(x[32:][0])\n",
    "    #         print(\"ThuV =\", ThuV)\n",
    "            FriV = int(x[33:][0])\n",
    "    #         print(\"FriV =\", FriV)\n",
    "            SatV = int(x[34:][0])\n",
    "    #         print(\"SatV =\", SatV)\n",
    "            SunV = int(x[35:][0])\n",
    "    #         print(\"SunV =\", SunV)\n",
    "    #         print(\"------------\")\n",
    "        if BankHolOnly == \"B\":\n",
    "            BankLoop = BankLoop + 1\n",
    "            if BankLoop == 1:\n",
    "                print(\"WARNING: Bank holiday services exist!\")\n",
    "        else:\n",
    "            if x[0:2] in ('QO','QI','QT'):\n",
    "    #             print(x[0:2])\n",
    "    #             -----------------------\n",
    "    #             QO / QI / QT\n",
    "    #             -----------------------\n",
    "                RouteIDFull = x[2:]\n",
    "    #             print(\"9 -\", RouteIDFull)\n",
    "                RSStopID = RouteIDFull[:12].rstrip()\n",
    "    #             print(\"10-\", RSStopID)\n",
    "                StopArea = RouteIDFull[:4].rstrip()\n",
    "                BnodeStr = RSStopID\n",
    "    #             print(\"StopArea -\",StopArea)\n",
    "    #             print(\"BnodeStr -\",BnodeStr)\n",
    "                RouteIDFull = x[14:]\n",
    "    #             print(\"11-\", RouteIDFull)\n",
    "                TimeNum = RouteIDFull[:4]\n",
    "    #             print(\"12-\", TimeNum)\n",
    "                SeqNo = SeqNo + 1\n",
    "                if SeqNo == 1:\n",
    "                    StartStopID = RSStopID\n",
    "                if SeqNo > 1:\n",
    "    #                 print(\"RouteLines1:\")\n",
    "                    l_BMRouteID_1.append(RouteIDV)\n",
    "                    l_BM_StartStopID_1.append(StartStopID)\n",
    "                    l_AnodeStopID.append(AnodeStr)\n",
    "                    l_BnodeStopID.append(BnodeStr)\n",
    "                AnodeStr = RSStopID\n",
    "                if int(TimeNum) >= 0 and int(TimeNum) < 2400:\n",
    "    #                 print(\"MainTable:\")\n",
    "                    l_OperatorCode.append(RouteOpV)\n",
    "                    l_ServiceNum.append(ServiceIDv)\n",
    "                    l_BM_RouteID_2.append(RouteIDV)\n",
    "                    l_BM_StartStopID_2.append(StartStopID)\n",
    "                    l_Direction.append(DirectionV)\n",
    "                    l_StopID.append(RSStopID)\n",
    "                    l_DeptTime.append(TimeNum)\n",
    "                    l_Seq.append(SeqNo)\n",
    "                    l_Mon.append(MonV)\n",
    "                    l_Tue.append(TueV)\n",
    "                    l_Wed.append(WedV)\n",
    "                    l_Thu.append(ThuV)\n",
    "                    l_Fri.append(FriV)\n",
    "                    l_Sat.append(SatV)\n",
    "                    l_Sun.append(SunV)\n",
    "    \n",
    "\n",
    "    # Pandas dataframe creations\n",
    "\n",
    "    # - RouteLines1\n",
    "    print(\"Loading RouteLines1 to Pandas dataframe...\")\n",
    "    \n",
    "    RouteLines1 = pd.DataFrame(\n",
    "        {'BMRouteID':l_BMRouteID_1,\n",
    "         'BM_StartStopID':l_BM_StartStopID_1,\n",
    "         'AnodeStopID':l_AnodeStopID,\n",
    "         'BnodeStopID':l_BnodeStopID\n",
    "        })\n",
    "    \n",
    "    # - MainTable\n",
    "    print(\"Loading MainTable to Pandas dataframe...\")\n",
    "    \n",
    "    MainTable = pd.DataFrame(\n",
    "        {'OperatorCode':l_OperatorCode,\n",
    "         'ServiceNum':l_ServiceNum,\n",
    "         'BM_RouteID':l_BM_RouteID_2,\n",
    "         'BM_StartStopID':l_BM_StartStopID_2,\n",
    "         'Direction':l_Direction,\n",
    "         'StopID':l_StopID,\n",
    "         'DeptTime':l_DeptTime,\n",
    "         'Seq':l_Seq,\n",
    "         'Mon':l_Mon,\n",
    "         'Tue':l_Tue,\n",
    "         'Wed':l_Wed,\n",
    "         'Thur':l_Thu,\n",
    "         'Fri':l_Fri,\n",
    "         'Sat':l_Sat,\n",
    "         'Sun':l_Sun\n",
    "        })\n",
    "    \n",
    "    # ------------------------------------------------------------------------------------------------------------\n",
    "    # RouteLines1.info()\n",
    "    # RouteLines1.head()\n",
    "    # MainTable.info()\n",
    "    # MainTable.head()\n",
    "    \n",
    "    # ------------------------------------------------------------------------------------------------------------\n",
    "    #  Upload to db\n",
    "\n",
    "    print(\"Uploading RouteLines1 df to SQLite...\")    \n",
    "    RouteLines1.to_sql('RouteLines1', conn, schema='rl' ,if_exists='append', index = False) # , chunksize = 10000\n",
    "\n",
    "    print(\"Uploading MainTable df to SQLite...\")    \n",
    "    MainTable.to_sql('MainTable', conn, schema='rl' ,if_exists='append', index = False)     # , chunksize = 10000\n",
    "    \n",
    "    # ------------------------------------------------------------------------------------------------------------\n",
    "    # PTStops_temp\n",
    "    \n",
    "    print(\"Updating 'PTStops_temp'...\")\n",
    "    \n",
    "#     c.execute('''DROP TABLE IF EXISTS PTStops_temp;''')\n",
    "#     c.execute('''CREATE TABLE PTStops_temp \n",
    "#                  AS SELECT NaptanID, Xcoord, Ycoord \n",
    "#                  FROM PTStops \n",
    "#                  GROUP BY NaptanID, Xcoord, Ycoord;\n",
    "#     ''')\n",
    "    c.execute('''INSERT INTO PTStops_temp (NaptanID, Xcoord, Ycoord)\n",
    "                 SELECT NaptanID, Xcoord, Ycoord FROM PTStops GROUP BY NaptanID, Xcoord, Ycoord;\n",
    "    ''')    \n",
    "    conn.commit()\n",
    "    \n",
    "    # ------------------------------------------------------------------------------------------------------------\n",
    "    # UPDATE RouteLines1...\n",
    "    \n",
    "    print(\"Updating RouteLines1 RouteID ...\")\n",
    "    \n",
    "    c.execute('''UPDATE RouteLines1\n",
    "                 SET BMRouteID = TempUpdRouteID.BMRouteID || '_' || CAST(ROUND(TempUpdRouteID.Xcoord/1000.0,0) AS INTEGER) || '_' || CAST(ROUND(TempUpdRouteID.Ycoord/1000.0,0) AS INTEGER) \n",
    "                 FROM (SELECT BMRouteID, Xcoord, Ycoord, id FROM RouteLines1, PTStops_temp WHERE RouteLines1.BM_StartStopID = PTStops_temp.NaptanID) AS TempUpdRouteID\n",
    "                 WHERE TempUpdRouteID.id = RouteLines1.id;\n",
    "    ''')\n",
    "    conn.commit()\n",
    "\n",
    "    # ------------------------------------------------------------------------------------------------------------\n",
    "    # UPDATE Maintable...\n",
    "    \n",
    "    print(\"Updating Maintable RouteID...\")\n",
    "    \n",
    "    c.execute('''UPDATE Maintable\n",
    "                 SET BM_RouteID = TempUpdRouteID.BM_RouteID || '_' || CAST(ROUND(TempUpdRouteID.Xcoord/1000.0,0) AS INTEGER) || '_' || CAST(ROUND(TempUpdRouteID.Ycoord/1000.0,0) AS INTEGER) \n",
    "                 FROM (SELECT * FROM Maintable, PTStops_temp WHERE Maintable.BM_StartStopID = PTStops_temp.NaptanID) AS TempUpdRouteID\n",
    "                 WHERE TempUpdRouteID.id = Maintable.id;\n",
    "    ''')\n",
    "    conn.commit()"
   ]
  },
  {
   "cell_type": "markdown",
   "metadata": {},
   "source": [
    "#### 2. CreateFreq"
   ]
  },
  {
   "cell_type": "code",
   "execution_count": 8,
   "metadata": {},
   "outputs": [],
   "source": [
    "def TempGetFreq(ColName, depttime1, depttime2):\n",
    "    c.execute('''CREATE TABLE TempGetFreq AS SELECT * FROM Maintable WHERE ''' + ColName + ''' = 1 AND DeptTime >= ''' + str(depttime1) + ''' AND DeptTime < ''' + str(depttime2) + ''' AND Seq = 1;''')\n",
    "    conn.commit()\n",
    "    c.execute('''CREATE TABLE SumFreq AS SELECT BM_RouteID, SUM(Seq) AS SumFreq FROM TempGetFreq GROUP BY BM_RouteID;''')\n",
    "    conn.commit()    \n",
    "\n",
    "def UpdFreqVal(UpdCol, round_value):\n",
    "    c.execute('''UPDATE RLFreq SET ''' + UpdCol + ''' = UpdFreqVal.SumFreq/''' + str(round_value) + '''\n",
    "                 FROM (SELECT RLFreq.BM_RouteID, OperatorCode, ServiceNum, Direction, OperatorName,\n",
    "                              MonEarly, MonAM, MonBP, MonEP, MonOP, MonNight,\n",
    "                              TueEarly, TueAM, TueBP, TueEP, TueOP, TueNight, \n",
    "                              WedEarly, WedAM, WedBP, WedEP, WedOP, WedNight,\n",
    "                              ThurEarly, ThurAM, ThurBP, ThurEP, ThurOP, ThurNight,\n",
    "                              FriEarly, FriAM, FriBP, FriEP, FriOP, FriNight,\n",
    "                              SatEarly, SatAM, SatBP, SatEP, SatOP, SatNight, \n",
    "                              SunEarly, SunAM, SunBP, SunEP, SunOP, SunNight, \n",
    "                              id, SumFreq \n",
    "                       FROM RLFreq, SumFreq \n",
    "                       WHERE RLFReq.BM_RouteID = SumFreq.BM_RouteID) AS UpdFreqVal \n",
    "                 WHERE RLFreq.id = UpdFreqVal.id;''')\n",
    "    conn.commit()\n",
    "    c.execute('''UPDATE RLFreq SET ''' + UpdCol + ''' = 0 WHERE ''' + UpdCol + ''' is NULL;''')\n",
    "    conn.commit()\n",
    "    c.execute('''UPDATE RLFreq SET ''' + UpdCol + ''' = ROUND(''' + UpdCol + ''', 2);''')\n",
    "    conn.commit()\n",
    "    c.execute('''DROP TABLE IF EXISTS TempGetFreq;''')\n",
    "    conn.commit()\n",
    "    c.execute('''DROP TABLE IF EXISTS SumFreq;''')\n",
    "    conn.commit()\n",
    "    \n",
    "\n",
    "def CreateFreq():\n",
    "    \n",
    "    ColNames = {1:'Mon', 2:'Tue', 3:'Wed', 4:'Thur', 5:'Fri', 6:'Sat', 7:'Sun'}\n",
    "    \n",
    "    DepTimes = {\n",
    "                'AM':[2.0, 700,900],\n",
    "                'BP':[7.0, 900,1600],\n",
    "                'EP':[2.0, 1600,1800],\n",
    "                'OP':[6.0, 1800,2400],\n",
    "                'Night':[3.0, 0,300],\n",
    "                'Early':[3.0, 400,700]\n",
    "               }    \n",
    "    c.execute('''DROP TABLE IF EXISTS RLFreq;''')    \n",
    "    conn.commit()    \n",
    "    c.execute('''CREATE TABLE RLFreq(\n",
    "       BM_RouteID    TEXT,\n",
    "       OperatorCode  TEXT,\n",
    "       ServiceNum    TEXT,\n",
    "       Direction     TEXT,\n",
    "       OperatorName  TEXT,\n",
    "       MonEarly      REAL,\n",
    "       MonAM         REAL,\n",
    "       MonBP         REAL,\n",
    "       MonEP         REAL,\n",
    "       MonOP         REAL,\n",
    "       MonNight      REAL,\n",
    "       TueEarly      REAL,\n",
    "       TueAM         REAL,\n",
    "       TueBP         REAL,\n",
    "       TueEP         REAL,\n",
    "       TueOP         REAL,\n",
    "       TueNight      REAL,\n",
    "       WedEarly      REAL,\n",
    "       WedAM         REAL,\n",
    "       WedBP         REAL,\n",
    "       WedEP         REAL,\n",
    "       WedOP         REAL,\n",
    "       WedNight      REAL,\n",
    "       ThurEarly     REAL,\n",
    "       ThurAM        REAL,\n",
    "       ThurBP        REAL,\n",
    "       ThurEP        REAL,\n",
    "       ThurOP        REAL,\n",
    "       ThurNight     REAL,\n",
    "       FriEarly      REAL,\n",
    "       FriAM         REAL,\n",
    "       FriBP         REAL,\n",
    "       FriEP         REAL,\n",
    "       FriOP         REAL,\n",
    "       FriNight      REAL,\n",
    "       SatEarly      REAL,\n",
    "       SatAM         REAL,\n",
    "       SatBP         REAL,\n",
    "       SatEP         REAL,\n",
    "       SatOP         REAL,\n",
    "       SatNight      REAL,\n",
    "       SunEarly      REAL,\n",
    "       SunAM         REAL,\n",
    "       SunBP         REAL,\n",
    "       SunEP         REAL,\n",
    "       SunOP         REAL,\n",
    "       SunNight      REAL,\n",
    "       id            INTEGER PRIMARY KEY\n",
    "     );\n",
    "    ''')\n",
    "    \n",
    "    c.execute('''INSERT INTO RLFreq (\n",
    "                                     BM_RouteID, \n",
    "                                     OperatorCode, \n",
    "                                     ServiceNum, \n",
    "                                     Direction\n",
    "                                     )\n",
    "                 SELECT BM_RouteID, \n",
    "                        OperatorCode,\n",
    "                        ServiceNum,\n",
    "                        Direction\n",
    "                 FROM MainTable GROUP BY BM_RouteID ORDER BY BM_RouteID;\n",
    "    ''')\n",
    "    conn.commit()\n",
    "\n",
    "    c.execute('''UPDATE RLFreq SET OperatorName = OperatorPublicName \n",
    "                 FROM (SELECT * From RLFreq, NOCTable \n",
    "                       WHERE OperatorCode = NOCCODE \n",
    "                       AND NOT OperatorCode = '') AS UpdOP\n",
    "                 WHERE UpdOP.id = RLFreq.id;''')\n",
    "    conn.commit()\n",
    "    \n",
    "    for key1, value1 in ColNames.items():\n",
    "        print(\"Freq. Calculations for \" + value1 + \"...\")\n",
    "        for key2, value2 in DepTimes.items():\n",
    "#             print(key1, \"ColName=\" + str(value1+key2), value2[0],value2[1],value2[2])\n",
    "#             print(\"TempGetFreq\", str(value1), value2[1], value2[2])\n",
    "            TempGetFreq(str(value1), value2[1], value2[2])\n",
    "#             print(\"UpdFreqVal\", str(value1+key2), value2[0])\n",
    "            UpdFreqVal(str(value1+key2), value2[0])\n"
   ]
  },
  {
   "cell_type": "markdown",
   "metadata": {},
   "source": [
    "#### 3. ABSorter"
   ]
  },
  {
   "cell_type": "code",
   "execution_count": 9,
   "metadata": {},
   "outputs": [],
   "source": [
    "def ABsorter():\n",
    "    \n",
    "    print(\"Creation of ABNodes and updating...\")\n",
    "    \n",
    "    c.execute('''DROP TABLE IF EXISTS ABNodes;''')\n",
    "    conn.commit()  \n",
    "    c.execute('''CREATE TABLE ABNodes AS Select AnodeStopID, BnodeStopID, AnodeXcoord, AnodeYcoord, BnodeXcoord, BnodeYcoord, id From RouteLines1 group by AnodeStopID, BnodeStopID;''')\n",
    "    conn.commit()  \n",
    "\n",
    "    c.execute('''UPDATE ABNodes\n",
    "    SET AnodeXcoord = UpdAnode.Xcoord, AnodeYcoord = UpdAnode.Ycoord \n",
    "    FROM (Select * from ABNodes, PTStops_temp Where AnodeStopid = NaptanID) AS UpdAnode\n",
    "    WHERE UpdAnode.id = ABNodes.id;''')\n",
    "    conn.commit()  \n",
    "\n",
    "    c.execute('''UPDATE ABNodes\n",
    "    SET BnodeXcoord = UpdBnode.Xcoord, BnodeYcoord = UpdBnode.Ycoord \n",
    "    FROM (Select * from ABNodes, PTStops_temp Where BnodeStopid = NaptanID) AS UpdBnode\n",
    "    WHERE UpdBnode.id = ABNodes.id;''')\n",
    "    conn.commit()  "
   ]
  },
  {
   "cell_type": "markdown",
   "metadata": {},
   "source": [
    "#### 4. ABNodesUK export"
   ]
  },
  {
   "cell_type": "code",
   "execution_count": 10,
   "metadata": {},
   "outputs": [],
   "source": [
    "def export_csv():\n",
    "    print(\"Export ABNodesUK to CSV for 'RouteLineCreator.exe'\")\n",
    "    db_df = pd.read_sql_query(\"SELECT AnodeStopID, BnodeStopID, ifnull(AnodeXCoord, 0) AS AnodeXCoord, ifnull(AnodeYCoord, 0) AS AnodeYCoord, ifnull(BnodeXCoord, 0) AS BnodeXCoord,ifnull(BnodeYCoord, 0) AS BnodeYCoord FROM ABNodesUK\", conn)\n",
    "    db_df.to_csv(rlc_input_path + 'ABNodesUK.csv', index=False, quoting=csv.QUOTE_NONNUMERIC, na_rep=0) \n",
    "    print(\"ABNodesUK.csv created!\")\n"
   ]
  },
  {
   "cell_type": "markdown",
   "metadata": {},
   "source": [
    "## Main routine"
   ]
  },
  {
   "cell_type": "markdown",
   "metadata": {},
   "source": [
    "##### Please set the project folder path here:"
   ]
  },
  {
   "cell_type": "code",
   "execution_count": 11,
   "metadata": {},
   "outputs": [],
   "source": [
    "project = \"D:/Routelines/\""
   ]
  },
  {
   "cell_type": "markdown",
   "metadata": {},
   "source": [
    "data folders:"
   ]
  },
  {
   "cell_type": "code",
   "execution_count": 12,
   "metadata": {},
   "outputs": [],
   "source": [
    "cif_path = project + 'data/'\n",
    "db_path = project + 'db/'\n",
    "rlc_input_path = project + 'rlc/'"
   ]
  },
  {
   "cell_type": "markdown",
   "metadata": {},
   "source": [
    "CIF files by regions:"
   ]
  },
  {
   "cell_type": "code",
   "execution_count": 13,
   "metadata": {},
   "outputs": [],
   "source": [
    "RegionID = ['EA'] #,'W','NE','EM','WM','SW','Y','NW','S','SE','L']\n",
    "cif ='/ATCO_BUS.cif'\n",
    "db_name = \"routelines.db\"\n",
    "tablename =\"PTStops\""
   ]
  },
  {
   "cell_type": "markdown",
   "metadata": {},
   "source": [
    "CIF file as a single file:"
   ]
  },
  {
   "cell_type": "code",
   "execution_count": 14,
   "metadata": {},
   "outputs": [],
   "source": [
    "# region = 'single CIF'\n",
    "# cif_s ='Bus_1.cif'\n",
    "# # db_name_s = 'QB_nodes.db'\n",
    "# db_name_s = db_name_r\n",
    "# tablename_s =\"PTStops_s\""
   ]
  },
  {
   "cell_type": "markdown",
   "metadata": {},
   "source": [
    "Create SQLite database 'routelines.db':"
   ]
  },
  {
   "cell_type": "code",
   "execution_count": 15,
   "metadata": {},
   "outputs": [],
   "source": [
    "# set the enivronment variable to enable \"ExportSHP\" function\n",
    "\n",
    "os.environ['SPATIALITE_SECURITY'] = 'relaxed'"
   ]
  },
  {
   "cell_type": "code",
   "execution_count": 16,
   "metadata": {
    "scrolled": true
   },
   "outputs": [],
   "source": [
    "conn = sqlite3.connect(db_path + db_name)\n",
    "conn.enable_load_extension(True)\n",
    "conn.execute('SELECT load_extension(\"mod_spatialite\")')   \n",
    "conn.execute('SELECT InitSpatialMetaData(1);')\n",
    "c = conn.cursor()"
   ]
  },
  {
   "cell_type": "markdown",
   "metadata": {},
   "source": [
    "Import table 'NOCTable':"
   ]
  },
  {
   "cell_type": "code",
   "execution_count": 17,
   "metadata": {},
   "outputs": [],
   "source": [
    "NOCTable = pd.read_csv(cif_path + 'NOCTable.csv')\n",
    "NOCTable.to_sql('NOCTable', conn, schema='rl', if_exists='replace', index = False, chunksize = 100000)"
   ]
  },
  {
   "cell_type": "markdown",
   "metadata": {},
   "source": [
    "Create  table 'PtStops_temp':"
   ]
  },
  {
   "cell_type": "code",
   "execution_count": 18,
   "metadata": {},
   "outputs": [],
   "source": [
    "c.execute('''CREATE TABLE PTStops_temp(NaptanID TEXT, Xcoord TEXT, Ycoord TEXT);''')\n",
    "conn.commit()"
   ]
  },
  {
   "cell_type": "markdown",
   "metadata": {},
   "source": [
    "Data extraction from CIF files:"
   ]
  },
  {
   "cell_type": "code",
   "execution_count": 19,
   "metadata": {
    "scrolled": false
   },
   "outputs": [
    {
     "name": "stdout",
     "output_type": "stream",
     "text": [
      "========================================================\n",
      "D:/Routelines/data/EA/ATCO_BUS.cif\n",
      "CIF file size is 13.08 MB\n",
      "Counting number of lines...\n",
      "390975 lines in the file!\n"
     ]
    },
    {
     "data": {
      "application/vnd.jupyter.widget-view+json": {
       "model_id": "13f2bc4c39fd447fb6b08fe417720530",
       "version_major": 2,
       "version_minor": 0
      },
      "text/plain": [
       "  0%|          | 0/1 [00:00<?, ?it/s]"
      ]
     },
     "metadata": {},
     "output_type": "display_data"
    },
    {
     "name": "stdout",
     "output_type": "stream",
     "text": [
      "Extracting QB nodes in progress...\n",
      "QB nodes extracted: 8306\n"
     ]
    },
    {
     "data": {
      "application/vnd.jupyter.widget-view+json": {
       "model_id": "8538bfb977734098b4f98b49c0f8cdf3",
       "version_major": 2,
       "version_minor": 0
      },
      "text/plain": [
       "  0%|          | 0/8306 [00:00<?, ?it/s]"
      ]
     },
     "metadata": {},
     "output_type": "display_data"
    },
    {
     "name": "stdout",
     "output_type": "stream",
     "text": [
      "PTStops rows number:  8306\n",
      "Data extraction from CIF to lists...\n",
      "Loading RouteLines1 to Pandas dataframe...\n",
      "Loading MainTable to Pandas dataframe...\n",
      "Uploading RouteLines1 df to SQLite...\n",
      "Uploading MainTable df to SQLite...\n",
      "Updating 'PTStops_temp'...\n",
      "Updating RouteLines1 RouteID ...\n",
      "Updating Maintable RouteID...\n",
      "Freq. Calculations for Mon...\n",
      "Freq. Calculations for Tue...\n",
      "Freq. Calculations for Wed...\n",
      "Freq. Calculations for Thur...\n",
      "Freq. Calculations for Fri...\n",
      "Freq. Calculations for Sat...\n",
      "Freq. Calculations for Sun...\n",
      "Creation of ABNodes and updating...\n",
      "Creation of 'ABNodesUK', 'RLFreqUK', 'RoutelinesUK'...\n"
     ]
    }
   ],
   "source": [
    "region_counter = 0\n",
    "\n",
    "for region in RegionID:\n",
    "    print(\"========================================================\")\n",
    "    cif_file = cif_path + region + cif\n",
    "    print(cif_file)    \n",
    "    region_counter += 1\n",
    "    cif_df = read_cif(cif_file)\n",
    "    PTStops = GetPtStops(cif_df, region, tablename)\n",
    "    GetRouteDataToSQLite(cif_df)\n",
    "    CreateFreq()\n",
    "    ABsorter()\n",
    "    if region_counter == 1:\n",
    "        print(\"Creation of 'ABNodesUK', 'RLFreqUK', 'RoutelinesUK'...\")\n",
    "        c.execute('''CREATE TABLE ABNodesUK AS SELECT * FROM ABNodes;''')\n",
    "        conn.commit()        \n",
    "        c.execute('''CREATE TABLE RLFreqUK AS SELECT * FROM RLFreq;''')\n",
    "        conn.commit()\n",
    "        c.execute('''CREATE TABLE RoutelinesUK AS Select Region, BMRouteID, AnodeStopID, BnodeStopID From RouteLines1 Group By BMRouteID, AnodeStopID, BnodeStopID;''')\n",
    "        conn.commit()  \n",
    "    elif region_counter > 1:\n",
    "        print(\"Updating 'ABNodesUK', 'RLFreqUK', 'RoutelinesUK'...\")\n",
    "        c.execute('''UPDATE ABNodes SET AnodeXcoord = 999999 FROM (Select * from ABNodes, ABNodesUK \n",
    "                     WHERE ABNodes.AnodeStopID = ABNodesUK.AnodeStopID AND ABNodes.BnodeStopID = ABNodesUK.BnodeStopID) \n",
    "                     AS DelAB WHERE DelAB.id = ABNodes.id;''')\n",
    "        conn.commit()\n",
    "        c.execute('''DROP TABLE IF EXISTS QualAB;''')\n",
    "        conn.commit()\n",
    "        c.execute('''CREATE TABLE QualAB AS Select * FROM ABNodes WHERE AnodeXcoord < 999999  OR AnodeXcoord IS NULL;''')\n",
    "        conn.commit()  \n",
    "        c.execute('''INSERT INTO ABNodesUK (AnodeStopID, BnodeStopID, AnodeXCoord, AnodeYCoord,BnodeXCoord,BnodeYCoord, id) SELECT * FROM QualAB;''')\n",
    "        conn.commit()  \n",
    "        c.execute('''INSERT INTO RLFreqUK SELECT * FROM RLFreq;''')\n",
    "        conn.commit()\n",
    "        c.execute('''DROP TABLE IF EXISTS RouteLinesGrp;''')  \n",
    "        conn.commit()\n",
    "        c.execute('''CREATE TABLE RouteLinesGrp AS SELECT Region, BMRouteID, AnodeStopID, BnodeStopID FROM RouteLines1 GROUP BY Region, BMRouteID, AnodeStopID, BnodeStopID;''')\n",
    "        conn.commit()  \n",
    "        c.execute('''INSERT INTO RouteLinesUK SELECT * FROM RouteLinesGrp;''')\n",
    "        conn.commit()        \n",
    "    else:\n",
    "        print(\"No processed regions\")\n"
   ]
  },
  {
   "cell_type": "markdown",
   "metadata": {},
   "source": [
    "#### ABNodesUK.csv export"
   ]
  },
  {
   "cell_type": "code",
   "execution_count": 20,
   "metadata": {},
   "outputs": [
    {
     "name": "stdout",
     "output_type": "stream",
     "text": [
      "Export ABNodesUK to CSV for 'RouteLineCreator.exe'\n",
      "ABNodesUK.csv created!\n"
     ]
    }
   ],
   "source": [
    "export_csv()"
   ]
  },
  {
   "cell_type": "code",
   "execution_count": 21,
   "metadata": {},
   "outputs": [
    {
     "name": "stdout",
     "output_type": "stream",
     "text": [
      "Connection to routelines.db closed!\n"
     ]
    }
   ],
   "source": [
    "conn.close()\n",
    "print(\"Connection to routelines.db closed!\")"
   ]
  },
  {
   "cell_type": "markdown",
   "metadata": {},
   "source": [
    "<font color='red' style=\"font-size:30px\"><b>Done!</b></font> "
   ]
  },
  {
   "cell_type": "code",
   "execution_count": 22,
   "metadata": {},
   "outputs": [],
   "source": [
    "\n",
    "# MapBasic EA region calculations     : 03m:24sec\n",
    "# Python+SQLite EA region calculations: 00m:10sec  ~20x faster\n",
    "\n",
    "# MapBasic All regions calculations     : 4h:45m:00sec\n",
    "# Python+SQLite All regions calculations: 0h:17m:10sec  ~17x faster"
   ]
  },
  {
   "cell_type": "code",
   "execution_count": null,
   "metadata": {},
   "outputs": [],
   "source": []
  }
 ],
 "metadata": {
  "kernelspec": {
   "display_name": "Python 3",
   "language": "python",
   "name": "python3"
  },
  "language_info": {
   "codemirror_mode": {
    "name": "ipython",
    "version": 3
   },
   "file_extension": ".py",
   "mimetype": "text/x-python",
   "name": "python",
   "nbconvert_exporter": "python",
   "pygments_lexer": "ipython3",
   "version": "3.9.2"
  }
 },
 "nbformat": 4,
 "nbformat_minor": 4
}
