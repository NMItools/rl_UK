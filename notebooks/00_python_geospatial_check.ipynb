{
 "cells": [
  {
   "cell_type": "code",
   "execution_count": 1,
   "metadata": {},
   "outputs": [
    {
     "name": "stdout",
     "output_type": "stream",
     "text": [
      "Python v3.9.2 (tags/v3.9.2:1a79785, Feb 19 2021, 13:44:55) [MSC v.1928 64 bit (AMD64)]\n",
      "------------------------------------------------------------------------------\n",
      "Pandas v1.2.4\n",
      "C:\\Users\\Nebojsa\\scoop\\apps\\python\\current\\lib\\sqlite3\\__init__.py\n",
      "SQLite v3.34.1\n",
      "SQLite db-API v2.6.0\n",
      "SQLAlchemy v1.4.17\n"
     ]
    }
   ],
   "source": [
    "import sys\n",
    "import os\n",
    "\n",
    "import pandas as pd\n",
    "import sqlite3\n",
    "import sqlalchemy\n",
    "from sqlalchemy import create_engine\n",
    "\n",
    "import osgeo\n",
    "import fiona\n",
    "import shapely\n",
    "\n",
    "import geopandas as gpd\n",
    "\n",
    "\n",
    "print('Python v' + sys.version)\n",
    "print('------------------------------------------------------------------------------')\n",
    "print('Pandas v' + pd.__version__)\n",
    "print(sqlite3.__file__)\n",
    "print('SQLite v' + sqlite3.sqlite_version)\n",
    "print('SQLite db-API v' + sqlite3.version)\n",
    "print('SQLAlchemy v' + sqlalchemy.__version__)\n"
   ]
  },
  {
   "cell_type": "markdown",
   "metadata": {},
   "source": [
    "#### GeoSpatial libraries"
   ]
  },
  {
   "cell_type": "code",
   "execution_count": 2,
   "metadata": {},
   "outputs": [
    {
     "name": "stdout",
     "output_type": "stream",
     "text": [
      "OSGeo v3.2.2\n",
      "Fiona v1.8.19\n",
      "Shapely v1.7.1\n",
      "GeoPandas v0.9.0\n"
     ]
    }
   ],
   "source": [
    "print('OSGeo v' + osgeo.__version__)\n",
    "print('Fiona v' + fiona.__version__)\n",
    "print('Shapely v' + shapely.__version__)\n",
    "print('GeoPandas v' + gpd.__version__)"
   ]
  },
  {
   "cell_type": "markdown",
   "metadata": {},
   "source": [
    "#### SQLite + SpatiaLite"
   ]
  },
  {
   "cell_type": "markdown",
   "metadata": {},
   "source": [
    "OS Environment variables"
   ]
  },
  {
   "cell_type": "code",
   "execution_count": 3,
   "metadata": {},
   "outputs": [
    {
     "data": {
      "text/plain": [
       "'c:\\\\pve\\\\rluk\\\\lib\\\\site-packages\\\\osgeo;C:\\\\pve\\\\rluk\\\\Scripts;C:\\\\Program Files (x86)\\\\Common Files\\\\Oracle\\\\Java\\\\javapath;C:\\\\Windows\\\\system32;C:\\\\Windows;C:\\\\Windows\\\\System32\\\\Wbem;C:\\\\Windows\\\\System32\\\\WindowsPowerShell\\\\v1.0\\\\;C:\\\\ProgramData\\\\Oracle\\\\Java\\\\javapath;C:\\\\Program Files (x86)\\\\Microsoft SQL Server\\\\Client SDK\\\\ODBC\\\\130\\\\Tools\\\\Binn\\\\;C:\\\\Program Files (x86)\\\\Microsoft SQL Server\\\\130\\\\Tools\\\\Binn\\\\;C:\\\\Program Files (x86)\\\\Microsoft SQL Server\\\\130\\\\DTS\\\\Binn\\\\;C:\\\\Program Files (x86)\\\\Microsoft SQL Server\\\\130\\\\Tools\\\\Binn\\\\ManagementStudio\\\\;C:\\\\Program Files (x86)\\\\Windows Kits\\\\8.1\\\\Windows Performance Toolkit\\\\;C:\\\\Program Files (x86)\\\\Earth Resource Mapping\\\\ECW Compressor 2.6\\\\Bin;C:\\\\Program Files\\\\ImageMagick-7.0.7-Q16;C:\\\\Program Files (x86)\\\\Calibre2\\\\;C:\\\\Program Files\\\\FME\\\\;C:\\\\Portable\\\\[GIS]\\\\sqlite;C:\\\\Portable\\\\[GIS]\\\\sqlite\\\\SpatiaLite\\\\5.0.1;C:\\\\Program Files\\\\pgAdmin 4\\\\v5\\\\runtime;C:\\\\Users\\\\Nebojsa\\\\scoop\\\\apps\\\\python\\\\current\\\\Scripts;C:\\\\Users\\\\Nebojsa\\\\scoop\\\\apps\\\\python\\\\current;C:\\\\Users\\\\Nebojsa\\\\scoop\\\\shims;C:\\\\Users\\\\Nebojsa\\\\AppData\\\\Local\\\\Microsoft\\\\WindowsApps;C:\\\\Program Files (x86)\\\\Nmap;C:\\\\Users\\\\Nebojsa\\\\AppData\\\\Local\\\\Programs\\\\Microsoft VS Code\\\\bin'"
      ]
     },
     "execution_count": 3,
     "metadata": {},
     "output_type": "execute_result"
    }
   ],
   "source": [
    "os.environ.get('Path')\n",
    "\n",
    "# C:\\\\Portable\\\\[GIS]\\\\sqlite\\\\3.34.1;\n",
    "# C:\\\\Portable\\\\[GIS]\\\\sqlite\\\\SpatiaLite\\\\5.0.1;"
   ]
  },
  {
   "cell_type": "code",
   "execution_count": 4,
   "metadata": {},
   "outputs": [
    {
     "data": {
      "text/plain": [
       "True"
      ]
     },
     "execution_count": 4,
     "metadata": {},
     "output_type": "execute_result"
    }
   ],
   "source": [
    "'SPATIALITE_SECURITY' in os.environ"
   ]
  },
  {
   "cell_type": "code",
   "execution_count": 5,
   "metadata": {
    "scrolled": true
   },
   "outputs": [
    {
     "data": {
      "text/plain": [
       "'relaxed'"
      ]
     },
     "execution_count": 5,
     "metadata": {},
     "output_type": "execute_result"
    }
   ],
   "source": [
    "os.environ.get('SPATIALITE_SECURITY')"
   ]
  },
  {
   "cell_type": "markdown",
   "metadata": {},
   "source": [
    "Create/Connect to SQLite database"
   ]
  },
  {
   "cell_type": "code",
   "execution_count": 6,
   "metadata": {},
   "outputs": [],
   "source": [
    "conn = sqlite3.connect('spatial_TEST.db')\n",
    "\n",
    "# Enable/Load SpatiaLite extension\n",
    "conn.enable_load_extension(True)\n",
    "conn.execute('SELECT load_extension(\"mod_spatialite\")')   \n",
    "conn.execute('SELECT InitSpatialMetaData(1);')\n",
    "\n",
    "c = conn.cursor()"
   ]
  },
  {
   "cell_type": "code",
   "execution_count": 7,
   "metadata": {},
   "outputs": [
    {
     "name": "stdout",
     "output_type": "stream",
     "text": [
      "SQLite v3.35.5\n"
     ]
    }
   ],
   "source": [
    "sql = \"SELECT sqlite_version();\"\n",
    "c.execute(sql)\n",
    "conn.commit()\n",
    "response = c.fetchall()\n",
    "\n",
    "print(\"SQLite v\" + response[0][0])"
   ]
  },
  {
   "cell_type": "code",
   "execution_count": 8,
   "metadata": {},
   "outputs": [
    {
     "name": "stdout",
     "output_type": "stream",
     "text": [
      "SpatiaLite v5.0.1\n"
     ]
    }
   ],
   "source": [
    "# check versions of SQLite/SpatiaLite\n",
    "\n",
    "sql = \"SELECT spatialite_version()\"\n",
    "c.execute(sql)\n",
    "conn.commit()\n",
    "response = c.fetchall()\n",
    "\n",
    "print(\"SpatiaLite v\" + response[0][0])"
   ]
  },
  {
   "cell_type": "code",
   "execution_count": 9,
   "metadata": {},
   "outputs": [
    {
     "name": "stdout",
     "output_type": "stream",
     "text": [
      "0 main D:\\git\\rluk\\notebooks\\spatial_TEST.db\n"
     ]
    }
   ],
   "source": [
    "c.execute(\"PRAGMA database_list\")\n",
    "rows = c.fetchall()\n",
    "\n",
    "for row in rows:\n",
    "    print(row[0], row[1], row[2])"
   ]
  },
  {
   "cell_type": "code",
   "execution_count": 10,
   "metadata": {},
   "outputs": [],
   "source": [
    "c.close()"
   ]
  },
  {
   "cell_type": "code",
   "execution_count": null,
   "metadata": {},
   "outputs": [],
   "source": []
  }
 ],
 "metadata": {
  "kernelspec": {
   "display_name": "Python 3",
   "language": "python",
   "name": "python3"
  },
  "language_info": {
   "codemirror_mode": {
    "name": "ipython",
    "version": 3
   },
   "file_extension": ".py",
   "mimetype": "text/x-python",
   "name": "python",
   "nbconvert_exporter": "python",
   "pygments_lexer": "ipython3",
   "version": "3.9.2"
  }
 },
 "nbformat": 4,
 "nbformat_minor": 5
}
