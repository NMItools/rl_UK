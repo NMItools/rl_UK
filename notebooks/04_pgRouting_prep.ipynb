{
 "cells": [
  {
   "cell_type": "code",
   "execution_count": 1,
   "id": "sticky-translator",
   "metadata": {},
   "outputs": [],
   "source": [
    "import psycopg2"
   ]
  },
  {
   "cell_type": "code",
   "execution_count": 14,
   "id": "interim-botswana",
   "metadata": {},
   "outputs": [],
   "source": [
    "username = 'postgres'\n",
    "password = 'softdesk'\n",
    "\n",
    "conn = psycopg2.connect(dbname='postgis_31_sample', port=5434, user=username, password=password)\n",
    "\n",
    "# query1 = 'ALTER TABLE rl.openroadsv2_polyline ADD COLUMN \"source\" integer'\n",
    "# query2 = 'ALTER TABLE rl.openroadsv2_polyline ADD COLUMN \"target\" integer;'\n",
    "query3 = '''SELECT pgr_createTopology('rl.openroadsv2_polyline', 0.000001, 'geom', 'gid', 'source', 'target')'''\n",
    "# print(query3)\n",
    "\n",
    "cur = conn.cursor()\n",
    "# cur.execute(query1)\n",
    "# cur.execute(query2)\n",
    "cur.execute(query3)\n",
    "conn.commit()\n",
    "conn.close()\n",
    "\n",
    "# 1h i 20min na laptop"
   ]
  },
  {
   "cell_type": "code",
   "execution_count": null,
   "id": "matched-campbell",
   "metadata": {},
   "outputs": [],
   "source": []
  }
 ],
 "metadata": {
  "kernelspec": {
   "display_name": "Python 3",
   "language": "python",
   "name": "python3"
  },
  "language_info": {
   "codemirror_mode": {
    "name": "ipython",
    "version": 3
   },
   "file_extension": ".py",
   "mimetype": "text/x-python",
   "name": "python",
   "nbconvert_exporter": "python",
   "pygments_lexer": "ipython3",
   "version": "3.9.5"
  }
 },
 "nbformat": 4,
 "nbformat_minor": 5
}
