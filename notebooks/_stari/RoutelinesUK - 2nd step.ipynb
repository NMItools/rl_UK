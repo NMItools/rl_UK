{
 "cells": [
  {
   "cell_type": "markdown",
   "metadata": {},
   "source": [
    "This script should be executed after creation of \"ABNodesUK.csv\" and when \"Route Line Creator\" finishes the job and a \"Result\" shapefile is put in the appropriate folder.\n",
    "\n",
    "for example:\n",
    "\n",
    "`D:/Projects/rlc/Result.shp`"
   ]
  },
  {
   "cell_type": "code",
   "execution_count": 1,
   "metadata": {},
   "outputs": [
    {
     "name": "stdout",
     "output_type": "stream",
     "text": [
      "Python v3.9.2 (tags/v3.9.2:1a79785, Feb 19 2021, 13:44:55) [MSC v.1928 64 bit (AMD64)]\n",
      "SQLite v3.34.0\n",
      "OSGeo v3.2.1\n"
     ]
    }
   ],
   "source": [
    "import sys\n",
    "import os\n",
    "import sqlite3\n",
    "from osgeo import gdal\n",
    "\n",
    "print('Python v' + sys.version)\n",
    "print('SQLite v' + sqlite3.sqlite_version)\n",
    "print('OSGeo v' + gdal.__version__)"
   ]
  },
  {
   "cell_type": "markdown",
   "metadata": {},
   "source": [
    "### Please set the project folder path here:"
   ]
  },
  {
   "cell_type": "code",
   "execution_count": null,
   "metadata": {},
   "outputs": [],
   "source": [
    "project = \"D:/Routelines/\""
   ]
  },
  {
   "cell_type": "markdown",
   "metadata": {},
   "source": [
    "Please check path to input SHP file and output SHP file in the next section!"
   ]
  },
  {
   "cell_type": "code",
   "execution_count": null,
   "metadata": {},
   "outputs": [],
   "source": [
    "rlc_input_path = project + 'rlc/'\n",
    "\n",
    "print(rlc_input_path)\n",
    "\n",
    "rlc = rlc_input_path + \"Result\"\n",
    "shp_path = project + \"shp/\"\n",
    "shp_out = shp_path + \"Routelines_final\"\n",
    "\n",
    "print (rlc)\n",
    "print (shp_path)\n",
    "print (shp_out)\n"
   ]
  },
  {
   "cell_type": "markdown",
   "metadata": {},
   "source": [
    "#### RLC shapefile import into SQLite as a spatial table:\n",
    "\n",
    "CREATE VIRTUAL TABLE Result USING VirtualShape(\"D:/Routelines/rlc/Result\", \"CP1251\", 27700);"
   ]
  },
  {
   "cell_type": "code",
   "execution_count": null,
   "metadata": {},
   "outputs": [],
   "source": [
    "def RLC_shp_import(rlc):\n",
    "    print(\"Loading RLC shapefile ...\")\n",
    "    c.execute('''CREATE VIRTUAL TABLE Result USING VirtualShape(\"''' + rlc + '''\", \"CP1251\", 27700);''')\n",
    "    conn.commit()"
   ]
  },
  {
   "cell_type": "markdown",
   "metadata": {},
   "source": [
    "`routes_geom()` will connect/merge all the lines that creates one route (with a unique BM_RouteID) \n",
    "based on the RoutelinesUK file where each route has N pairs of lines of which it consists.\n",
    "\n",
    "_e.g. route with BM_RouteID \"NW_SCMY_X2_O_354_430\" consists of 106 lines from ABNodesUK_"
   ]
  },
  {
   "cell_type": "code",
   "execution_count": null,
   "metadata": {},
   "outputs": [],
   "source": [
    "def routes_geom():\n",
    "    print(\"Creating route geometries...\")\n",
    "    c.execute('''CREATE TABLE routes_geom(Region TEXT, BMRouteID TEXT, AnodeStopID TEXT, BnodeStopID TEXT);''')\n",
    "    conn.commit()\n",
    "    c.execute('''SELECT AddGeometryColumn('routes_geom', 'geometry', 27700, 'GEOMETRY', 'XY');''')\n",
    "    conn.commit()\n",
    "    c.execute('''INSERT INTO routes_geom (Region, BMRouteID, AnodeStopID, BnodeStopID, geometry) SELECT rl.Region, rl.BMRouteID, rl.AnodeStopID, rl.BnodeStopID, ST_Union(rs.geometry) FROM RoutelinesUK rl INNER JOIN Result rs ON rl.AnodeStopID = rs.astopid and rl.BnodeStopID = rs.bstopid GROUP BY BMRouteID;''')\n",
    "    conn.commit()"
   ]
  },
  {
   "cell_type": "markdown",
   "metadata": {},
   "source": [
    "`routelines_final()` will perform SQL JOIN based on BM_RouteID from the table \"RLFreqUK\" for the geometry / line of the complete route thus created"
   ]
  },
  {
   "cell_type": "code",
   "execution_count": null,
   "metadata": {},
   "outputs": [],
   "source": [
    "def routelines_final():\n",
    "    print(\"Joining route geometries with freq. data and creating final table...\")\n",
    "    c.execute('''CREATE TABLE Routelines_final(\n",
    "                                               BM_RouteID TEXT, \n",
    "                                               OperatorCode TEXT, \n",
    "                                               ServiceNum TEXT, \n",
    "                                               Direction TEXT, \n",
    "                                               OperatorName TEXT,\n",
    "                                               MonEarly REAL, MonAM REAL, MonBP REAL, MonEP REAL, MonOP REAL, MonNight REAL, \n",
    "                                               TueEarly REAL,TueAM REAL,  TueBP REAL, TueEP REAL, TueOP REAL, TueNight REAL,\n",
    "                                               WedEarly REAL, WedAM REAL, WedBP REAL, WedEP REAL, WedOP REAL, WedNight REAL,\n",
    "                                               ThurEarly REAL, ThurAM REAL, ThurBP REAL, ThurEP REAL, ThurOP REAL, ThurNight REAL,\n",
    "                                               FriEarly REAL, FriAM REAL, FriBP REAL, FriEP REAL, FriOP REAL, FriNight REAL,\n",
    "                                               SatEarly REAL, SatAM REAL, SatBP REAL, SatEP REAL, SatOP REAL, SatNight REAL,\n",
    "                                               SunEarly REAL, SunAM REAL, SunBP REAL, SunEP REAL, SunOP REAL, SunNight REAL,\n",
    "                                               id INT,\n",
    "                                               pk_uid INTEGER NOT NULL PRIMARY KEY AUTOINCREMENT);''')\n",
    "    conn.commit()\n",
    "    c.execute('''SELECT AddGeometryColumn('Routelines_final', 'geometry', 27700, 'GEOMETRY', 'XY');''')\n",
    "    conn.commit()\n",
    "    c.execute('''INSERT INTO Routelines_final (BM_RouteID,OperatorCode,ServiceNum,Direction,OperatorName,MonEarly,MonAM,MonBP,MonEP,MonOP,MonNight,TueEarly,TueAM,TueBP,TueEP,TueOP,TueNight,WedEarly,WedAM,WedBP,WedEP,WedOP,WedNight,ThurEarly,ThurAM,ThurBP,ThurEP,ThurOP,ThurNight,FriEarly,FriAM,FriBP,FriEP,FriOP,FriNight,SatEarly,SatAM,SatBP,SatEP,SatOP,SatNight,SunEarly,SunAM,SunBP,SunEP,SunOP,SunNight,id, geometry)\n",
    "    SELECT rf.BM_RouteID, rf.OperatorCode, rf.ServiceNum, rf.Direction, rf.OperatorName, rf.MonEarly, rf.MonAM, rf.MonBP, rf.MonEP, rf.MonOP, rf.MonNight, rf.TueEarly, rf.TueAM, rf.TueBP, rf.TueEP, rf.TueOP, rf.TueNight, rf.WedEarly, rf.WedAM, rf.WedBP, rf.WedEP, rf.WedOP, rf.WedNight, rf.ThurEarly, rf.ThurAM, rf.ThurBP, rf.ThurEP, rf.ThurOP, rf.ThurNight, rf.FriEarly, rf.FriAM, rf.FriBP, rf.FriEP, rf.FriOP, rf.FriNight, rf.SatEarly, rf.SatAM, rf.SatBP, rf.SatEP, rf.SatOP, rf.SatNight, rf.SunEarly, rf.SunAM, rf.SunBP, rf.SunEP, rf.SunOP, rf.SunNight, rf.id, rg.geometry\n",
    "    FROM RLFreqUK rf INNER JOIN routes_geom rg ON rf.BM_RouteID = rg.BMRouteID\n",
    "    GROUP BY BMRouteID;''')\n",
    "    conn.commit()"
   ]
  },
  {
   "cell_type": "code",
   "execution_count": null,
   "metadata": {},
   "outputs": [],
   "source": [
    "def routelines_shp_export(db_table_name, geom_col, filename, encoding, geomtype):\n",
    "    print(\"Exporting final table to shapefile...\")\n",
    "    sql = \"SELECT ExportSHP('\" + db_table_name + \"', '\" + geom_col + \"', '\" + filename + \"', '\" + encoding + \"' , '\" + geomtype + \"')\"\n",
    "#     print(sql)\n",
    "    c.execute(sql)\n",
    "    conn.commit()"
   ]
  },
  {
   "cell_type": "markdown",
   "metadata": {},
   "source": [
    "### Main routine"
   ]
  },
  {
   "cell_type": "code",
   "execution_count": null,
   "metadata": {},
   "outputs": [],
   "source": [
    "# set the enivronment variable to enable \"ExportSHP\" function\n",
    "\n",
    "os.environ['SPATIALITE_SECURITY'] = 'relaxed'"
   ]
  },
  {
   "cell_type": "code",
   "execution_count": null,
   "metadata": {},
   "outputs": [],
   "source": [
    "# Connection to SQLite database 'routelines.db'\n",
    "\n",
    "conn = sqlite3.connect(db_path + 'routelines.db')\n",
    "conn.enable_load_extension(True)\n",
    "conn.execute('SELECT load_extension(\"mod_spatialite\")')   \n",
    "conn.execute('SELECT InitSpatialMetaData(1);')\n",
    "c = conn.cursor()"
   ]
  },
  {
   "cell_type": "code",
   "execution_count": null,
   "metadata": {
    "scrolled": true
   },
   "outputs": [],
   "source": [
    "RLC_shp_import(rlc)\n",
    "routes_geom()\n",
    "routelines_final()\n",
    "\n",
    "# Export database table to shapefile:\n",
    "routelines_shp_export(\"Routelines_final\", \"geometry\", shp_out, \"UTF-8\", \"LINESTRING\")\n",
    "print(\"Finished!\")"
   ]
  },
  {
   "cell_type": "code",
   "execution_count": null,
   "metadata": {},
   "outputs": [],
   "source": [
    "conn.close()\n",
    "print(\"Connection to database closed!\")"
   ]
  },
  {
   "cell_type": "code",
   "execution_count": null,
   "metadata": {},
   "outputs": [],
   "source": [
    "# removing extra columns\n",
    "\n",
    "ds = gdal.OpenEx(shp_out+\".shp\", gdal.OF_VECTOR | gdal.OF_UPDATE)\n",
    "ds.ExecuteSQL(\"ALTER TABLE Routelines_final DROP COLUMN pk_uid\")\n",
    "ds.ExecuteSQL(\"ALTER TABLE Routelines_final DROP COLUMN id\")\n",
    "\n",
    "print(\"FINISHED !\")"
   ]
  }
 ],
 "metadata": {
  "kernelspec": {
   "display_name": "Python 3",
   "language": "python",
   "name": "python3"
  },
  "language_info": {
   "codemirror_mode": {
    "name": "ipython",
    "version": 3
   },
   "file_extension": ".py",
   "mimetype": "text/x-python",
   "name": "python",
   "nbconvert_exporter": "python",
   "pygments_lexer": "ipython3",
   "version": "3.9.2"
  }
 },
 "nbformat": 4,
 "nbformat_minor": 4
}
