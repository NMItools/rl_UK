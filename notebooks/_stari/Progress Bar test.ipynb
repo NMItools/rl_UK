{
 "cells": [
  {
   "cell_type": "code",
   "execution_count": 2,
   "metadata": {},
   "outputs": [],
   "source": [
    "import os\n",
    "\n",
    "from tqdm.notebook import tqdm, trange\n",
    "# from tqdm import tqdm_notebook as tqdm\n",
    "import time    # to be used in loop iterations\n",
    "import sqlite3\n",
    "import pandas as pd"
   ]
  },
  {
   "cell_type": "code",
   "execution_count": 3,
   "metadata": {},
   "outputs": [
    {
     "name": "stdout",
     "output_type": "stream",
     "text": [
      "D:/Routelines/data/\n",
      "D:/Routelines/data/Bus_1.cif\n",
      "D:/Routelines/db/\n"
     ]
    }
   ],
   "source": [
    "project = \"D:/Routelines/\"\n",
    "cif_path = project + 'data/'\n",
    "db_path = project + 'db/'\n",
    "\n",
    "cif ='Bus_1.cif'\n",
    "cif_file = cif_path + cif\n",
    "\n",
    "print(cif_path)\n",
    "print(cif_file)\n",
    "print(db_path)"
   ]
  },
  {
   "cell_type": "code",
   "execution_count": null,
   "metadata": {},
   "outputs": [],
   "source": [
    "# Simple loop\n",
    "for i in range(100):\n",
    "    pass\n",
    "\n",
    "# Loop with a progress bar\n",
    "for i in trange(100):\n",
    "    time.sleep(0.01)"
   ]
  },
  {
   "cell_type": "code",
   "execution_count": null,
   "metadata": {},
   "outputs": [],
   "source": [
    "# Loop with a progres bar\n",
    "for i in tqdm(range(100)):\n",
    "    time.sleep(0.01)"
   ]
  },
  {
   "cell_type": "code",
   "execution_count": 4,
   "metadata": {},
   "outputs": [
    {
     "data": {
      "application/vnd.jupyter.widget-view+json": {
       "model_id": "d59eada39c5a441a922b10e53a322fa6",
       "version_major": 2,
       "version_minor": 0
      },
      "text/plain": [
       "Outer Level:   0%|          | 0/2 [00:00<?, ?it/s]"
      ]
     },
     "metadata": {},
     "output_type": "display_data"
    },
    {
     "data": {
      "application/vnd.jupyter.widget-view+json": {
       "model_id": "bf04cbd7c64a4a508c2c5628a1c637aa",
       "version_major": 2,
       "version_minor": 0
      },
      "text/plain": [
       "Inner Level:   0%|          | 0/100 [00:00<?, ?it/s]"
      ]
     },
     "metadata": {},
     "output_type": "display_data"
    },
    {
     "data": {
      "application/vnd.jupyter.widget-view+json": {
       "model_id": "9326a75da66c402ebf603958058ac5b9",
       "version_major": 2,
       "version_minor": 0
      },
      "text/plain": [
       "Inner Level:   0%|          | 0/100 [00:00<?, ?it/s]"
      ]
     },
     "metadata": {},
     "output_type": "display_data"
    }
   ],
   "source": [
    "outer_level = list(range(2))\n",
    "inner_level = list(range(100))\n",
    "for _ in tqdm(outer_level, desc='Outer Level'):\n",
    "    for number in tqdm(inner_level, desc='Inner Level'):\n",
    "        time.sleep(0.01)"
   ]
  },
  {
   "cell_type": "code",
   "execution_count": null,
   "metadata": {},
   "outputs": [],
   "source": [
    "p_bar = tqdm(range(10))\n",
    "for number in p_bar:\n",
    "    time.sleep(0.5)\n",
    "    p_bar.set_description(f'Working on \"{number}\"')"
   ]
  },
  {
   "cell_type": "markdown",
   "metadata": {},
   "source": [
    "#### pandas dataframe"
   ]
  },
  {
   "cell_type": "code",
   "execution_count": null,
   "metadata": {},
   "outputs": [],
   "source": [
    "# pd.read_csv(cif_file, names=['CODE'], header=None, sep='!')"
   ]
  },
  {
   "cell_type": "code",
   "execution_count": 1,
   "metadata": {},
   "outputs": [
    {
     "name": "stdout",
     "output_type": "stream",
     "text": [
      "len(df) =  390975\n",
      "chunksize = 39097\n"
     ]
    },
    {
     "data": {
      "application/vnd.jupyter.widget-view+json": {
       "model_id": "13eabd604cba4b319df881c0d470f3dc",
       "version_major": 2,
       "version_minor": 0
      },
      "text/plain": [
       "  0%|          | 0/390975 [00:00<?, ?it/s]"
      ]
     },
     "metadata": {},
     "output_type": "display_data"
    },
    {
     "name": "stdout",
     "output_type": "stream",
     "text": [
      "i= 0\n",
      "cdf=            a\n",
      "0          0\n",
      "1          1\n",
      "2          2\n",
      "3          3\n",
      "4          4\n",
      "...      ...\n",
      "39092  39092\n",
      "39093  39093\n",
      "39094  39094\n",
      "39095  39095\n",
      "39096  39096\n",
      "\n",
      "[39097 rows x 1 columns]\n",
      "i= 1\n",
      "cdf=            a\n",
      "39097  39097\n",
      "39098  39098\n",
      "39099  39099\n",
      "39100  39100\n",
      "39101  39101\n",
      "...      ...\n",
      "78189  78189\n",
      "78190  78190\n",
      "78191  78191\n",
      "78192  78192\n",
      "78193  78193\n",
      "\n",
      "[39097 rows x 1 columns]\n",
      "i= 2\n",
      "cdf=              a\n",
      "78194    78194\n",
      "78195    78195\n",
      "78196    78196\n",
      "78197    78197\n",
      "78198    78198\n",
      "...        ...\n",
      "117286  117286\n",
      "117287  117287\n",
      "117288  117288\n",
      "117289  117289\n",
      "117290  117290\n",
      "\n",
      "[39097 rows x 1 columns]\n",
      "i= 3\n",
      "cdf=              a\n",
      "117291  117291\n",
      "117292  117292\n",
      "117293  117293\n",
      "117294  117294\n",
      "117295  117295\n",
      "...        ...\n",
      "156383  156383\n",
      "156384  156384\n",
      "156385  156385\n",
      "156386  156386\n",
      "156387  156387\n",
      "\n",
      "[39097 rows x 1 columns]\n",
      "i= 4\n",
      "cdf=              a\n",
      "156388  156388\n",
      "156389  156389\n",
      "156390  156390\n",
      "156391  156391\n",
      "156392  156392\n",
      "...        ...\n",
      "195480  195480\n",
      "195481  195481\n",
      "195482  195482\n",
      "195483  195483\n",
      "195484  195484\n",
      "\n",
      "[39097 rows x 1 columns]\n",
      "i= 5\n",
      "cdf=              a\n",
      "195485  195485\n",
      "195486  195486\n",
      "195487  195487\n",
      "195488  195488\n",
      "195489  195489\n",
      "...        ...\n",
      "234577  234577\n",
      "234578  234578\n",
      "234579  234579\n",
      "234580  234580\n",
      "234581  234581\n",
      "\n",
      "[39097 rows x 1 columns]\n",
      "i= 6\n",
      "cdf=              a\n",
      "234582  234582\n",
      "234583  234583\n",
      "234584  234584\n",
      "234585  234585\n",
      "234586  234586\n",
      "...        ...\n",
      "273674  273674\n",
      "273675  273675\n",
      "273676  273676\n",
      "273677  273677\n",
      "273678  273678\n",
      "\n",
      "[39097 rows x 1 columns]\n",
      "i= 7\n",
      "cdf=              a\n",
      "273679  273679\n",
      "273680  273680\n",
      "273681  273681\n",
      "273682  273682\n",
      "273683  273683\n",
      "...        ...\n",
      "312771  312771\n",
      "312772  312772\n",
      "312773  312773\n",
      "312774  312774\n",
      "312775  312775\n",
      "\n",
      "[39097 rows x 1 columns]\n",
      "i= 8\n",
      "cdf=              a\n",
      "312776  312776\n",
      "312777  312777\n",
      "312778  312778\n",
      "312779  312779\n",
      "312780  312780\n",
      "...        ...\n",
      "351868  351868\n",
      "351869  351869\n",
      "351870  351870\n",
      "351871  351871\n",
      "351872  351872\n",
      "\n",
      "[39097 rows x 1 columns]\n",
      "i= 9\n",
      "cdf=              a\n",
      "351873  351873\n",
      "351874  351874\n",
      "351875  351875\n",
      "351876  351876\n",
      "351877  351877\n",
      "...        ...\n",
      "390965  390965\n",
      "390966  390966\n",
      "390967  390967\n",
      "390968  390968\n",
      "390969  390969\n",
      "\n",
      "[39097 rows x 1 columns]\n",
      "i= 10\n",
      "cdf=              a\n",
      "390970  390970\n",
      "390971  390971\n",
      "390972  390972\n",
      "390973  390973\n",
      "390974  390974\n"
     ]
    }
   ],
   "source": [
    "import pandas as pd\n",
    "import sqlite3\n",
    "from tqdm.notebook import tqdm\n",
    "\n",
    "project = \"D:/Routelines/\"\n",
    "cif_path = project + 'data/'\n",
    "db_path = project + 'db/'\n",
    "DB_FILENAME = db_path + 'progresbar_test.db'\n",
    "\n",
    "def chunker(seq, size):\n",
    "    # from http://stackoverflow.com/a/434328\n",
    "    return (seq[pos:pos + size] for pos in range(0, len(seq), size))\n",
    "\n",
    "def insert_with_progress(df, dbfile):\n",
    "    con = sqlite3.connect(dbfile)\n",
    "    chunksize = int(len(df) / 10) # 10%\n",
    "    print(\"len(df) = \", len(df))\n",
    "    print(\"chunksize =\", chunksize)\n",
    "    with tqdm(total=len(df)) as pbar:\n",
    "        for i, cdf in enumerate(chunker(df, chunksize)):\n",
    "            print(\"i=\", i)\n",
    "            print(\"cdf=\", cdf)\n",
    "            replace = \"replace\" if i == 0 else \"append\"\n",
    "            cdf.to_sql(con=con, name=\"MLS\", if_exists='append', index=False)\n",
    "            pbar.update(chunksize)\n",
    "            \n",
    "df = pd.DataFrame({'a': range(0,390975)})\n",
    "insert_with_progress(df, DB_FILENAME)"
   ]
  },
  {
   "cell_type": "code",
   "execution_count": null,
   "metadata": {},
   "outputs": [],
   "source": [
    "chunk_size=1000000\n",
    "chunks = []\n",
    "loop = True\n",
    "\n",
    "reader = pd.read_csv(cif_file, names=['CODE'], header=None, sep='!', iterator=True)\n",
    "while loop:\n",
    "    try:\n",
    "        chunk = reader.get_chunk(chunk_size)\n",
    "        chunks.append(chunk)\n",
    "    except StopIteration:\n",
    "        loop = False\n",
    "        print(\"Iteration is stopped\")\n",
    "\n",
    "pbar.close()\n",
    "df_ac = pd.concat(chunks, ignore_index=True)\n",
    "\n",
    "df_ac"
   ]
  },
  {
   "cell_type": "code",
   "execution_count": null,
   "metadata": {},
   "outputs": [],
   "source": [
    "import os\n",
    "import mmap\n",
    "from tqdm.notebook import tqdm, trange\n",
    "import pandas as pd\n",
    "\n",
    "def mapcount(filename):\n",
    "    f = open(filename, \"r+\")\n",
    "    buf = mmap.mmap(f.fileno(), 0)\n",
    "    lines = 0\n",
    "    readline = buf.readline\n",
    "    while readline():\n",
    "        lines += 1\n",
    "    return lines\n",
    "\n",
    "print(f'CIF file size is {round(os.stat(cif_file).st_size / (1024 * 1024), 2)} MB')   \n",
    "print(\"Counting number of lines...\")\n",
    "count_lines = mapcount(cif_file)\n",
    "print(f'{count_lines} lines in the file!')\n",
    "\n",
    "chunksize = int(count_lines / 46)\n",
    "print(chunksize)\n",
    "\n",
    "chunks = []\n",
    "\n",
    "with pd.read_csv(cif_file, names=['CODE'], header=None, sep='!', iterator=True) as reader:\n",
    "    for i in tqdm(range(count_lines)):\n",
    "        chunk = reader.get_chunk(chunksize)\n",
    "        chunks.append(chunk)\n",
    "\n",
    "df_ac = pd.concat(chunks, ignore_index=True)"
   ]
  },
  {
   "cell_type": "code",
   "execution_count": null,
   "metadata": {},
   "outputs": [],
   "source": [
    "import os\n",
    "import mmap\n",
    "from tqdm.notebook import tqdm, trange\n",
    "import pandas as pd\n",
    "\n",
    "def mapcount(filename):\n",
    "    f = open(filename, \"r+\")\n",
    "    buf = mmap.mmap(f.fileno(), 0)\n",
    "    lines = 0\n",
    "    readline = buf.readline\n",
    "    while readline():\n",
    "        lines += 1\n",
    "    return lines\n",
    "\n",
    "print(f'CIF file size is {round(os.stat(cif_file).st_size / (1024 * 1024), 2)} MB')   \n",
    "print(\"Counting number of lines...\")\n",
    "count_lines = mapcount(cif_file)\n",
    "print(f'{count_lines} lines in the file!')\n",
    "\n",
    "chunksize = int(count_lines / 46)\n",
    "print(chunksize)\n",
    "\n",
    "chunks = []\n",
    "\n",
    "chunks = pd.read_csv(cif_file, names=['CODE'], header=None, sep='!', iterator=True, chunksize=chunksize)\n",
    "\n",
    "df_ac = pd.concat(chunks, ignore_index=True)"
   ]
  },
  {
   "cell_type": "code",
   "execution_count": null,
   "metadata": {},
   "outputs": [],
   "source": [
    "df_ac"
   ]
  },
  {
   "cell_type": "code",
   "execution_count": null,
   "metadata": {},
   "outputs": [],
   "source": [
    "import os\n",
    "import sys\n",
    "import pandas as pd\n",
    "from tqdm import tqdm\n",
    "\n",
    "fn = cif_file\n",
    "\n",
    "temp = pd.read_csv(fn, nrows=20)\n",
    "N = len(temp.to_csv(index=False))\n",
    "t = int(os.path.getsize(fn)/N*20/10**5) + 1\n",
    "\n",
    "df = temp[:0]\n",
    "\n",
    "with tqdm(total = t, file = sys.stdout) as pbar:\n",
    "    for i,chunk in enumerate(pd.read_csv(fn, chunksize=10**5, low_memory=False, sep='?')):\n",
    "        df = df.append(chunk)\n",
    "        pbar.set_description('Importing: %d' % (1 + i))\n",
    "        pbar.update(1)"
   ]
  },
  {
   "cell_type": "code",
   "execution_count": null,
   "metadata": {},
   "outputs": [],
   "source": [
    "import os\n",
    "import sys\n",
    "import pandas as pd\n",
    "from tqdm.notebook import tqdm\n",
    "import mmap\n",
    "import math\n",
    "\n",
    "project = \"D:/Routelines/\"\n",
    "# project = \"C:/temp/\"\n",
    "cif_path = project + 'data/'\n",
    "db_path = project + 'db/'\n",
    "\n",
    "# cif ='ATCO_Bus.cif'\n",
    "cif ='Bus_1.cif'\n",
    "cif_file = cif_path + cif\n",
    "\n",
    "# print(cif_path)\n",
    "print(cif_file)\n",
    "# print(db_path)\n",
    "\n",
    "def mapcount(filename):\n",
    "    f = open(filename, \"r+\")\n",
    "    buf = mmap.mmap(f.fileno(), 0)\n",
    "    lines = 0\n",
    "    readline = buf.readline\n",
    "    while readline():\n",
    "        lines += 1\n",
    "    return lines\n",
    "\n",
    "print(f'CIF file size is {round(os.stat(cif_file).st_size / (1024 * 1024), 2)} MB')   \n",
    "print(\"Counting number of lines...\")\n",
    "count_lines = mapcount(cif_file)\n",
    "print(f'{count_lines} lines in the file!')\n",
    "\n",
    "chunk_size=1000000\n",
    "chunks = []\n",
    "\n",
    "loops = math.ceil(count_lines/chunk_size)\n",
    "# print(loops)\n",
    "\n",
    "i=0\n",
    "with tqdm(total = loops, file = sys.stdout) as pbar:\n",
    "    reader = pd.read_csv(cif_file, names=['CODE'], header=None, sep='!', iterator=True)\n",
    "    while i <= loops:\n",
    "        try:\n",
    "            i+=1\n",
    "            chunk = reader.get_chunk(chunk_size)\n",
    "            chunks.append(chunk)\n",
    "#             pbar.set_description('Lines imported: %d' % (1*chunk_size + i*chunk_size))\n",
    "            pbar.set_description('Importing CIF data to Pandas dataframe')\n",
    "            pbar.update(1)\n",
    "        except StopIteration:\n",
    "            loop = False\n",
    "            df_ac = pd.concat(chunks, ignore_index=True)\n",
    "            print(\"CIF data imported!\")\n",
    "\n",
    "pbar.close()\n",
    "\n",
    "df_ac"
   ]
  }
 ],
 "metadata": {
  "kernelspec": {
   "display_name": "Python 3",
   "language": "python",
   "name": "python3"
  },
  "language_info": {
   "codemirror_mode": {
    "name": "ipython",
    "version": 3
   },
   "file_extension": ".py",
   "mimetype": "text/x-python",
   "name": "python",
   "nbconvert_exporter": "python",
   "pygments_lexer": "ipython3",
   "version": "3.9.2"
  }
 },
 "nbformat": 4,
 "nbformat_minor": 4
}
