{
 "cells": [
  {
   "cell_type": "markdown",
   "metadata": {},
   "source": [
    "**Folder structure:**\n",
    "\n",
    "```\n",
    "D:\\Routelines\n",
    "        \\data\n",
    "        \\db\n",
    "\\data -> put here \"NOCTable.csv\" and CIF file\n",
    "\\db   -> here will be created sqlite db file\n",
    "```"
   ]
  },
  {
   "cell_type": "code",
   "execution_count": 1,
   "metadata": {},
   "outputs": [
    {
     "name": "stdout",
     "output_type": "stream",
     "text": [
      "Python v3.9.2 (tags/v3.9.2:1a79785, Feb 19 2021, 13:44:55) [MSC v.1928 64 bit (AMD64)]\n",
      "------------------------------------------------------------------------------\n",
      "Pandas v1.2.0\n",
      "NumPy v1.19.4\n",
      "SQLite v3.34.1\n"
     ]
    }
   ],
   "source": [
    "import os\n",
    "import sys\n",
    "import csv\n",
    "import math\n",
    "import mmap\n",
    "import sqlite3\n",
    "\n",
    "import pandas as pd\n",
    "import numpy as np\n",
    "from tqdm.notebook import tqdm\n",
    "\n",
    "\n",
    "print('Python v' + sys.version)\n",
    "print('------------------------------------------------------------------------------')\n",
    "print('Pandas v' + pd.__version__)\n",
    "print('NumPy v' + np.__version__)\n",
    "print('SQLite v' + sqlite3.sqlite_version)"
   ]
  },
  {
   "cell_type": "markdown",
   "metadata": {},
   "source": [
    "### Please set the project folder path here:"
   ]
  },
  {
   "cell_type": "code",
   "execution_count": 2,
   "metadata": {},
   "outputs": [],
   "source": [
    "project = \"D:/Routelines/\""
   ]
  },
  {
   "cell_type": "markdown",
   "metadata": {},
   "source": [
    "Please check path to CIF file"
   ]
  },
  {
   "cell_type": "code",
   "execution_count": 3,
   "metadata": {},
   "outputs": [
    {
     "name": "stdout",
     "output_type": "stream",
     "text": [
      "D:/Routelines/data/\n",
      "D:/Routelines/data/Bus_1.cif\n",
      "D:/Routelines/db/\n"
     ]
    }
   ],
   "source": [
    "cif_path = project + 'data/'\n",
    "db_path = project + 'db/'\n",
    "\n",
    "cif ='Bus_1.cif'\n",
    "cif_file = cif_path + cif\n",
    "\n",
    "print(cif_path)\n",
    "print(cif_file)\n",
    "print(db_path)"
   ]
  },
  {
   "cell_type": "markdown",
   "metadata": {},
   "source": [
    "Loading CIF file into Pandas dataframe:"
   ]
  },
  {
   "cell_type": "code",
   "execution_count": 4,
   "metadata": {},
   "outputs": [],
   "source": [
    "def mapcount(filename):\n",
    "    print(\"Counting number of lines...\")\n",
    "    f = open(filename, \"r+\")\n",
    "    buf = mmap.mmap(f.fileno(), 0)\n",
    "    lines = 0\n",
    "    readline = buf.readline\n",
    "    while readline():\n",
    "        lines += 1\n",
    "    print(f'{lines} lines in the file!')\n",
    "    return lines"
   ]
  },
  {
   "cell_type": "code",
   "execution_count": 5,
   "metadata": {},
   "outputs": [],
   "source": [
    "# Reading CIF file\n",
    "\n",
    "def read_cif(cif_file):\n",
    "    print(\"========================================================\")\n",
    "    print(f'CIF file size is {round(os.stat(cif_file).st_size / (1024 * 1024), 2)} MB')   \n",
    "    count_lines = mapcount(cif_file)\n",
    "    chunk_size=1000000\n",
    "    chunks = []\n",
    "    loops = math.ceil(count_lines/chunk_size)\n",
    "    i=0\n",
    "    with tqdm(total = loops, file = sys.stdout) as pbar:\n",
    "        reader = pd.read_csv(cif_file, names=['CODE'], header=None, sep='!', iterator=True)\n",
    "        while i <= loops:\n",
    "            try:\n",
    "                i+=1\n",
    "                chunk = reader.get_chunk(chunk_size)\n",
    "                chunks.append(chunk)\n",
    "                pbar.set_description('Importing CIF data to Pandas dataframe')\n",
    "                pbar.update(1)\n",
    "            except StopIteration:\n",
    "                loop = False\n",
    "                cif_data = pd.concat(chunks, ignore_index=True)\n",
    "                print(\"CIF data imported!\")\n",
    "    pbar.close()\n",
    "    return cif_data"
   ]
  },
  {
   "cell_type": "code",
   "execution_count": 6,
   "metadata": {},
   "outputs": [],
   "source": [
    "def GetPtStops(cif_data):\n",
    "    print(\"--------------------------------------------------------\")\n",
    "    print(\"Extracting PTStops (QB) data...\")    \n",
    "    QB = cif_data['CODE'].str.extract('(^QB.*)').dropna()\n",
    "    QB.columns = ['CODE']\n",
    "    COLUMN_NAMES = ['NaptanID','Xcoord','Ycoord']\n",
    "    PTStops = pd.DataFrame(columns=COLUMN_NAMES)\n",
    "    PTStops['NaptanID'] = QB['CODE'].str.slice(start=3, stop=15).str.rstrip()\n",
    "    PTStops['Xcoord'] = QB['CODE'].str.slice(start=15, stop=21)\n",
    "    PTStops['Ycoord'] = QB['CODE'].str.slice(start=23, stop=29)\n",
    "#     PTStops.to_sql('PTStops', conn, schema='rl', if_exists='replace', index=False, chunksize=None, method=None)\n",
    "    print(\"PTStops - \" + region + \" finished!\")\n",
    "    return PTStops"
   ]
  },
  {
   "cell_type": "code",
   "execution_count": 7,
   "metadata": {},
   "outputs": [
    {
     "name": "stdout",
     "output_type": "stream",
     "text": [
      "========================================================\n",
      "CIF file size is 1481.19 MB\n",
      "Counting number of lines...\n",
      "46748423 lines in the file!\n"
     ]
    },
    {
     "data": {
      "application/vnd.jupyter.widget-view+json": {
       "model_id": "729edd48888f45bd8e564b6d998f17cc",
       "version_major": 2,
       "version_minor": 0
      },
      "text/plain": [
       "  0%|          | 0/47 [00:00<?, ?it/s]"
      ]
     },
     "metadata": {},
     "output_type": "display_data"
    },
    {
     "name": "stdout",
     "output_type": "stream",
     "text": [
      "CIF data imported!\n"
     ]
    }
   ],
   "source": [
    "cif_df = read_cif(cif_file)\n",
    "\n",
    "# PTStops = GetPtStops(cif_df)\n",
    "# print(\"Done!\")\n"
   ]
  },
  {
   "cell_type": "code",
   "execution_count": null,
   "metadata": {},
   "outputs": [],
   "source": []
  }
 ],
 "metadata": {
  "kernelspec": {
   "display_name": "Python 3",
   "language": "python",
   "name": "python3"
  },
  "language_info": {
   "codemirror_mode": {
    "name": "ipython",
    "version": 3
   },
   "file_extension": ".py",
   "mimetype": "text/x-python",
   "name": "python",
   "nbconvert_exporter": "python",
   "pygments_lexer": "ipython3",
   "version": "3.9.2"
  }
 },
 "nbformat": 4,
 "nbformat_minor": 4
}
